{
 "cells": [
  {
   "cell_type": "code",
   "execution_count": null,
   "id": "e8c73952-b6e4-4105-952b-a602ab07b526",
   "metadata": {},
   "outputs": [],
   "source": [
    "\"\"\"\n",
    "\n",
    "使用Qwen-Agent框架定义Agent，并做query分解-子问题subquery\n",
    "\n",
    "\"\"\"\n",
    "\n",
    "import pprint\n",
    "import json\n",
    "from qwen_agent.agents import Assistant\n",
    "from qwen_agent.tools.base import BaseTool, register_tool\n",
    "from qwen_agent.agents import ReActChat, Agent\n",
    "\n"
   ]
  }
 ],
 "metadata": {
  "kernelspec": {
   "display_name": "torch",
   "language": "python",
   "name": "torch"
  },
  "language_info": {
   "codemirror_mode": {
    "name": "ipython",
    "version": 3
   },
   "file_extension": ".py",
   "mimetype": "text/x-python",
   "name": "python",
   "nbconvert_exporter": "python",
   "pygments_lexer": "ipython3",
   "version": "3.12.8"
  }
 },
 "nbformat": 4,
 "nbformat_minor": 5
}
