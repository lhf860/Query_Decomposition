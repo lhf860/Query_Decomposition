{
 "cells": [
  {
   "cell_type": "code",
   "execution_count": 1,
   "id": "2d13d0e2-cfb1-4bc8-89c9-4a1a36f235d5",
   "metadata": {},
   "outputs": [],
   "source": [
    "\"\"\"\n",
    "主要是参考internthinker的能力，经过非微调的方式解决现有问题\n",
    "参考：https://mp.weixin.qq.com/s/AbL3KewLXtvweEk9seOTAw\n",
    "实现方式：借助于size较大的LLM，通过Prompt进行实现。\n",
    "\n",
    "\"\"\"\n",
    "\n",
    "import os"
   ]
  },
  {
   "cell_type": "code",
   "execution_count": 2,
   "id": "494c26b1-9c38-4f76-ab02-4c85afc02480",
   "metadata": {},
   "outputs": [],
   "source": [
    "\n",
    "\n",
    "from openai import OpenAI\n",
    "\n",
    "\n",
    "openai_api_key = \"EMPTY\"\n",
    "openai_api_base = \"http://localhost:8000/v1\"\n",
    "\n",
    "client = OpenAI(\n",
    "    api_key=openai_api_key,\n",
    "    base_url=openai_api_base,\n",
    ")\n",
    "\n"
   ]
  },
  {
   "cell_type": "code",
   "execution_count": 25,
   "id": "50b123f6-4e92-45bd-b258-0ed357e2507b",
   "metadata": {},
   "outputs": [
    {
     "name": "stdout",
     "output_type": "stream",
     "text": [
      "<restate>问题要求找出张三的父亲的名字。</restate>\n",
      "<subquery>#获取关于张三的信息  \n",
      "#从信息中找到张三父亲的名字</subquery>\n"
     ]
    }
   ],
   "source": [
    "\n",
    "def restate(query):\n",
    "\n",
    "    system_prompt = \"\"\"你是一个AI专家助手，擅长对问题进行解析，规划问题的解决思路，能够以严密的逻辑以层层递进的关系经过推理重述问题的解决步骤，并最终完成对问题的解析。\n",
    "    - 重述问题的解决思路放入到<restate></restate>标志中\n",
    "    - 根据重述的问题，总结出解决步骤的关键步骤，形成解决问题的子问题列表，每个子问题以#号标志开头，子问题尽量以动词等关键词开头，,所有的子问题列表放入到<subquery></subquery>标志中。\n",
    "    - 不要输出其它无关的内容，仅输出<restate>和<subquery>标记内的内容\n",
    "    - 不要随意猜想，不要输出与原始问题无关的内容\n",
    "    - 子问题以列表的形式返回\n",
    "    - 子问题是从原始问题中语义解析和语义抽取出来的\n",
    "\n",
    "    \"\"\"\n",
    "\n",
    "    messages=[\n",
    "        {\"role\": \"system\", \"content\": system_prompt},\n",
    "        {\"role\": \"user\", \"content\": query},\n",
    "    ]\n",
    "    chat_response = client.chat.completions.create(model=\"Qwen2.5-7B-Instruct\",messages=messages, \n",
    "                                                   temperature=0,\n",
    "                                                   # top_p=0.8,\n",
    "                                                   max_tokens=1024,\n",
    "                                                   extra_body={\n",
    "                                                               \"repetition_penalty\": 1.05,\n",
    "                                                       # \"guide_json\": Query.model_json_schema(),\n",
    "                                                       # \"guided_decoding_backend\": \"outlines\"\n",
    "                                                   }\n",
    "                                                  )\n",
    "\n",
    "    \n",
    "    \n",
    "    return chat_response.choices[0].message.content\n",
    "    \n",
    "    \n",
    "\n",
    "    \n",
    "\n",
    "query = \"姚明和奥尼尔谁的身高高\"\n",
    "query = \"张三的父亲叫什么\"\n",
    "# query = \"功率最大的发电机是什么时候购买的\"\n",
    "# query = \"耗电量最大的设备是什么？为什么它耗电量这么大\"\n",
    "# query = \"耗电量最大的设备名称是及原因\"\n",
    "# query= \"张三购物费用比旅游费用多了多少\"\n",
    "\n",
    "\n",
    "print(restate(query))\n",
    "\n"
   ]
  },
  {
   "cell_type": "code",
   "execution_count": 76,
   "id": "be7b4e03-9058-44b8-933c-55424ecfff8b",
   "metadata": {},
   "outputs": [
    {
     "ename": "AttributeError",
     "evalue": "'NoneType' object has no attribute 'group'",
     "output_type": "error",
     "traceback": [
      "\u001b[0;31m---------------------------------------------------------------------------\u001b[0m",
      "\u001b[0;31mAttributeError\u001b[0m                            Traceback (most recent call last)",
      "Cell \u001b[0;32mIn[76], line 17\u001b[0m\n\u001b[1;32m     14\u001b[0m resate_matcher \u001b[38;5;241m=\u001b[39m re\u001b[38;5;241m.\u001b[39msearch(restate_pattern, r, re\u001b[38;5;241m.\u001b[39mS)\n\u001b[1;32m     15\u001b[0m subquery_matcher \u001b[38;5;241m=\u001b[39m re\u001b[38;5;241m.\u001b[39msearch(subquery_pattern, r, re\u001b[38;5;241m.\u001b[39mS)\n\u001b[0;32m---> 17\u001b[0m \u001b[38;5;28mprint\u001b[39m(\u001b[43mresate_matcher\u001b[49m\u001b[38;5;241;43m.\u001b[39;49m\u001b[43mgroup\u001b[49m(\u001b[38;5;124m\"\u001b[39m\u001b[38;5;124mrestate\u001b[39m\u001b[38;5;124m\"\u001b[39m))\n\u001b[1;32m     18\u001b[0m \u001b[38;5;28mprint\u001b[39m(subquery_matcher\u001b[38;5;241m.\u001b[39mgroup(\u001b[38;5;124m\"\u001b[39m\u001b[38;5;124msubquery\u001b[39m\u001b[38;5;124m\"\u001b[39m))\n",
      "\u001b[0;31mAttributeError\u001b[0m: 'NoneType' object has no attribute 'group'"
     ]
    }
   ],
   "source": [
    "# r  = \"\"\"\n",
    "# <subquery>\n",
    "# - 确定张三的购物费用\n",
    "# - 确定张三的旅游费用\n",
    "# - 计算购物费用与旅游费用的差值</subquery>\n",
    "# <restate>确定张三购物费用和旅游费用的具体数值，然后计算两者之间的差值。</restate>\"\"\"\n",
    "\n",
    "# import re\n",
    "\n",
    "\n",
    "# restate_pattern = \"<restate>(?P<restate>.*?)</restate>.*?<subquery>(?P<subquery>.*?</subquery>)\"\n",
    "# subquery_pattern = \"<subquery>(?P<subquery>.*?)</subquery>\"\n",
    "\n",
    "# resate_matcher = re.search(restate_pattern, r, re.S)\n",
    "# subquery_matcher = re.search(subquery_pattern, r, re.S)\n",
    "\n",
    "# print(resate_matcher.group(\"restate\"))\n",
    "# print(subquery_matcher.group(\"subquery\"))\n",
    "\n"
   ]
  },
  {
   "cell_type": "code",
   "execution_count": 74,
   "id": "87a73852-439c-4ae1-994f-09075a9230eb",
   "metadata": {},
   "outputs": [
    {
     "name": "stdout",
     "output_type": "stream",
     "text": [
      "确定张三购物费用和旅游费用的具体数值，然后计算两者之间的差值。\n"
     ]
    }
   ],
   "source": [
    "\n",
    "r  = \"\"\"<restate>确定张三购物费用和旅游费用的具体数值，然后计算两者之间的差值。</restate>\n",
    "<subquery>\n",
    "- 确定张三的购物费用\n",
    "- 确定张三的旅游费用\n",
    "- 计算购物费用与旅游费用的差值</subquery>\n",
    "\"\"\"\n",
    "\n",
    "pattern = \"<restate>(?P<restate>[\\\\s\\\\S]*?)</restate>\"\n",
    "\n",
    "print(re.search(pattern, r).group(\"restate\"))\n"
   ]
  },
  {
   "cell_type": "code",
   "execution_count": null,
   "id": "ccabd98c-bbe2-4972-99ae-c47630c00aaf",
   "metadata": {},
   "outputs": [],
   "source": [
    "\n",
    "\n",
    "\n"
   ]
  }
 ],
 "metadata": {
  "kernelspec": {
   "display_name": "torch",
   "language": "python",
   "name": "torch"
  },
  "language_info": {
   "codemirror_mode": {
    "name": "ipython",
    "version": 3
   },
   "file_extension": ".py",
   "mimetype": "text/x-python",
   "name": "python",
   "nbconvert_exporter": "python",
   "pygments_lexer": "ipython3",
   "version": "3.10.16"
  }
 },
 "nbformat": 4,
 "nbformat_minor": 5
}
