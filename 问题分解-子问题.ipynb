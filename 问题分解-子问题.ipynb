{
 "cells": [
  {
   "cell_type": "code",
   "execution_count": 1,
   "id": "4f7d9eaf-aac0-44df-bc40-23d775acc47a",
   "metadata": {},
   "outputs": [],
   "source": [
    "# !pip install openai\n",
    "# !pip install socksio"
   ]
  },
  {
   "cell_type": "code",
   "execution_count": 1,
   "id": "c356b522-07a8-4434-bf41-439690a47ac0",
   "metadata": {},
   "outputs": [],
   "source": [
    "from openai import OpenAI"
   ]
  },
  {
   "cell_type": "code",
   "execution_count": 20,
   "id": "e49c26f4-a40f-4117-a24f-3b5504160873",
   "metadata": {},
   "outputs": [],
   "source": [
    "# Set OpenAI's API key and API base to use vLLM's API server.\n",
    "openai_api_key = \"EMPTY\"\n",
    "openai_api_base = \"http://localhost:8000/v1\"\n",
    "\n",
    "client = OpenAI(\n",
    "    api_key=openai_api_key,\n",
    "    base_url=openai_api_base,\n",
    ")\n",
    "\n",
    "system_prompt = \"\"\"您是一位具备高级推理能力的专家AI助手。您的任务是为您的思考过程提供详细、逐步的解释。对于每个步骤：\n",
    "1. 提供一个清晰、简洁的标题描述当前的推理阶段。\n",
    "2. 在内容部分详细阐述您的思考过程。\n",
    "3. 决定是继续推理还是提供最终答案。\n",
    "响应格式：\n",
    "使用JSON，包含以下键：title（标题），content（内容），next_action（取值：continue 或 final_answer）\n",
    "\n",
    "关键要求：\n",
    "- 采用至少5个明确的推理步骤。\n",
    "- 承认您作为AI的局限性，并明确说明您能做什么以及不能做什么。\n",
    "- 主动探索和评估可能的替代答案或方法。\n",
    "- 批判性地评估您的推理过程；识别潜在的缺陷或偏见。\n",
    "- 重新检查时，使用完全不同的方法或视角。\n",
    " -采用至少3种不同的方法来推导或验证答案。\n",
    "- 在推理中结合相关领域知识和最佳实践。\n",
    "- 在可能的情况下，为每个步骤和最终结论量化确定性水平。\n",
    "- 考虑潜在的边界情况或例外情况。\n",
    "- 提供清晰的理由来排除其他假设。\n",
    "\n",
    "有效JSON响应的示例：\n",
    "{\n",
    "    \"title\": \"初步问题分析\",\n",
    "    \"content\": \"为了有效解决这个问题，我将首先把给定的信息分解为关键组成部分。这包括识别...[详细解释]...通过这种方式结构化问题，我们可以系统地解决每个方面。\",\n",
    "    \"next_action\": \"continue\"\n",
    "}\n",
    "\n",
    "\n",
    "\"\"\"\n",
    "\n",
    "\n",
    "system_prompt = \"\"\"您是一位具备高级推理能力、语义解析和数据库的专家AI助手。您的任务是为用户问题拆分为多个子问题，根据多个子问题的答案回答原始的用户问题。具体要求：\n",
    "1. 对于用户问题，一步一步地编写具体的解答过程，放入到<thought></thought>标签。\n",
    "2. 根据原始问题和解答过程，将原始问题拆分为独立的子问题，具体要求：\n",
    "   - 每个子问题要求简单、详细和完整\n",
    "   - 每个子问题之间尽量保持连续性\n",
    "   - 如果上一个子问题的答案是下一个子问题的输入，那么答案以<response_数字>标志放入到下一个子问题中，并在每个子问题中包含该答案标志<response_数字>，数字以1开始，逐渐增加。\n",
    "   - 每个子问题都需要json，包含以下键：subquery（拆分后的子问题），answer(答案标志<response_数字>), next_action（取值：continue 或 final_answer）\n",
    "   - 所有子问题的json组成列表\n",
    "\n",
    "完整的样例：\n",
    "用户问题：在耗电量最大的设备是哪一年制造的？\n",
    "子问题列表：\n",
    "<subquery>\n",
    "\n",
    "{\n",
    "    \"subquery\": \"查询耗电量最大的设备是什么\",\n",
    "    \"answer\": \"response_1\"\n",
    "    \"next_action\": \"continue\"\n",
    "}\n",
    "{\n",
    "    \"subquery\": \"<response_1>是哪一年制造的\",\n",
    "    \"answer\": \"response_2\"\n",
    "    \"next_action\": \"finished\"\n",
    "}\n",
    "</subquery>\n",
    "\n",
    "\n",
    "\"\"\"\n",
    "\n",
    "\n"
   ]
  },
  {
   "cell_type": "code",
   "execution_count": null,
   "id": "56df20ea-b4a2-477d-b5fd-96e57f304232",
   "metadata": {},
   "outputs": [],
   "source": [
    "\n",
    "result = {\"thought\": \"为了回答这个问题，我们需要先确定功率最大的发电机是什么，然后找出这个发电机的购买时间。\"}\n",
    "\n"
   ]
  },
  {
   "cell_type": "code",
   "execution_count": 21,
   "id": "42946a94-8569-4fbb-a74f-983b5c87920e",
   "metadata": {},
   "outputs": [
    {
     "name": "stdout",
     "output_type": "stream",
     "text": [
      "<thought>\n",
      "为了回答这个问题，我们需要先确定功率最大的发电机是什么，然后找出这个发电机的购买时间。\n",
      "</thought>\n",
      "子问题列表：\n",
      "<subquery>\n",
      "{\n",
      "    \"subquery\": \"查询功率最大的发电机是什么\",\n",
      "    \"answer\": \"response_1\",\n",
      "    \"next_action\": \"continue\"\n",
      "}\n",
      "{\n",
      "    \"subquery\": \"response_1 是什么时候购买的\",\n",
      "    \"answer\": \"response_2\",\n",
      "    \"next_action\": \"final_answer\"\n",
      "}\n",
      "</subquery>\n"
     ]
    }
   ],
   "source": [
    "chat_response = client.chat.completions.create(\n",
    "    model=\"Qwen2.5-7B-Instruct\",\n",
    "    messages=[\n",
    "        {\"role\": \"system\", \"content\": system_prompt},\n",
    "        {\"role\": \"user\", \"content\": \"功率最大的发电机和是什么时候购买的\"},\n",
    "    ],\n",
    "    temperature=0.001,\n",
    "    # top_p=0.8,\n",
    "    max_tokens=1024,\n",
    "    extra_body={\n",
    "        \"repetition_penalty\": 1.05,\n",
    "    },\n",
    ")\n",
    "# print(\"Chat response:\", chat_response)\n",
    "print(chat_response.choices[0].message.content)\n",
    "\n"
   ]
  },
  {
   "cell_type": "code",
   "execution_count": 22,
   "id": "7c07120f-7679-44ac-90a0-1ad2d9fe2c42",
   "metadata": {},
   "outputs": [
    {
     "name": "stdout",
     "output_type": "stream",
     "text": [
      "<thought>\n",
      "为了回答这个问题，我们需要先确定功率最大的发电机是哪一年制造的，然后确定耗电量最大的设备是哪一年制造的，最后比较这两个日期来判断哪个更早。\n",
      "</thought>\n",
      "子问题列表：\n",
      "<subquery>\n",
      "{\n",
      "    \"subquery\": \"查询功率最大的发电机是哪一年制造的\",\n",
      "    \"answer\": \"response_1\",\n",
      "    \"next_action\": \"continue\"\n",
      "}\n",
      "{\n",
      "    \"subquery\": \"查询耗电量最大的设备是哪一年制造的\",\n",
      "    \"answer\": \"response_2\",\n",
      "    \"next_action\": \"continue\"\n",
      "}\n",
      "{\n",
      "    \"subquery\": \"<response_1>和<response_2>哪个日期更早\",\n",
      "    \"answer\": \"response_3\",\n",
      "    \"next_action\": \"final_answer\"\n",
      "}\n",
      "</subquery>\n"
     ]
    }
   ],
   "source": [
    "chat_response = client.chat.completions.create(\n",
    "    model=\"Qwen2.5-7B-Instruct\",\n",
    "    messages=[\n",
    "        {\"role\": \"system\", \"content\": system_prompt},\n",
    "        {\"role\": \"user\", \"content\": \"功率最大的发电机和耗电量最大的设备，谁买的比较早\"},\n",
    "    ],\n",
    "    temperature=0.001,\n",
    "    # top_p=0.8,\n",
    "    max_tokens=1024,\n",
    "    extra_body={\n",
    "        \"repetition_penalty\": 1.05,\n",
    "    },\n",
    ")\n",
    "# print(\"Chat response:\", chat_response)\n",
    "print(chat_response.choices[0].message.content)\n",
    "\n"
   ]
  },
  {
   "cell_type": "code",
   "execution_count": 1,
   "id": "9783d9dc-8062-4625-aba4-63d68cf8c68f",
   "metadata": {},
   "outputs": [],
   "source": [
    "\"\"\"指导vLLM结构化输出\"\"\"\n",
    "\n",
    "from pydantic import BaseModel, Field\n",
    "from typing import Optional, List, Annotated\n",
    "from enum import Enum\n",
    "\n",
    "\n",
    "class NextAction(str, Enum):\n",
    "    continuing = \"continuing\"\n",
    "    finished = \"finished\"\n",
    "\n",
    "\n",
    "\n",
    "class SubQuery(BaseModel):\n",
    "\n",
    "    subquery: Annotated[str, Field(description=\"子问题\")]\n",
    "    answer: Annotated[str, Field(description=\"子问题的答案标志<response_数字>\")]\n",
    "    next_action: Annotated[NextAction, Field(description=\"下一步动作是继续continue还是返回答案final_answer\")]\n",
    "\n",
    "\n",
    "class QueryDecomposition(BaseModel):\n",
    "\n",
    "    subquery_list: Annotated[List[SubQuery], Field(description=\"原始问题拆解后形成的子问题列表\")]\n",
    "    \n",
    "\n"
   ]
  },
  {
   "cell_type": "code",
   "execution_count": 2,
   "id": "717ae647-897f-4ac5-812d-f8470d915645",
   "metadata": {},
   "outputs": [
    {
     "ename": "NameError",
     "evalue": "name 'client' is not defined",
     "output_type": "error",
     "traceback": [
      "\u001b[0;31m---------------------------------------------------------------------------\u001b[0m",
      "\u001b[0;31mNameError\u001b[0m                                 Traceback (most recent call last)",
      "Cell \u001b[0;32mIn[2], line 1\u001b[0m\n\u001b[0;32m----> 1\u001b[0m chat_response \u001b[38;5;241m=\u001b[39m \u001b[43mclient\u001b[49m\u001b[38;5;241m.\u001b[39mchat\u001b[38;5;241m.\u001b[39mcompletions\u001b[38;5;241m.\u001b[39mcreate(\n\u001b[1;32m      2\u001b[0m     model\u001b[38;5;241m=\u001b[39m\u001b[38;5;124m\"\u001b[39m\u001b[38;5;124mQwen2.5-7B-Instruct\u001b[39m\u001b[38;5;124m\"\u001b[39m,\n\u001b[1;32m      3\u001b[0m     messages\u001b[38;5;241m=\u001b[39m[\n\u001b[1;32m      4\u001b[0m         {\u001b[38;5;124m\"\u001b[39m\u001b[38;5;124mrole\u001b[39m\u001b[38;5;124m\"\u001b[39m: \u001b[38;5;124m\"\u001b[39m\u001b[38;5;124msystem\u001b[39m\u001b[38;5;124m\"\u001b[39m, \u001b[38;5;124m\"\u001b[39m\u001b[38;5;124mcontent\u001b[39m\u001b[38;5;124m\"\u001b[39m: system_prompt},\n\u001b[1;32m      5\u001b[0m         {\u001b[38;5;124m\"\u001b[39m\u001b[38;5;124mrole\u001b[39m\u001b[38;5;124m\"\u001b[39m: \u001b[38;5;124m\"\u001b[39m\u001b[38;5;124muser\u001b[39m\u001b[38;5;124m\"\u001b[39m, \u001b[38;5;124m\"\u001b[39m\u001b[38;5;124mcontent\u001b[39m\u001b[38;5;124m\"\u001b[39m: \u001b[38;5;124m\"\u001b[39m\u001b[38;5;124m功率最大的发电机和耗电量最大的设备，谁买的比较早\u001b[39m\u001b[38;5;124m\"\u001b[39m},\n\u001b[1;32m      6\u001b[0m     ],\n\u001b[1;32m      7\u001b[0m     temperature\u001b[38;5;241m=\u001b[39m\u001b[38;5;241m0.001\u001b[39m,\n\u001b[1;32m      8\u001b[0m     \u001b[38;5;66;03m# top_p=0.8,\u001b[39;00m\n\u001b[1;32m      9\u001b[0m     max_tokens\u001b[38;5;241m=\u001b[39m\u001b[38;5;241m1024\u001b[39m,\n\u001b[1;32m     10\u001b[0m     extra_body\u001b[38;5;241m=\u001b[39m{\n\u001b[1;32m     11\u001b[0m         \u001b[38;5;124m\"\u001b[39m\u001b[38;5;124mrepetition_penalty\u001b[39m\u001b[38;5;124m\"\u001b[39m: \u001b[38;5;241m1.05\u001b[39m,\n\u001b[1;32m     12\u001b[0m         \u001b[38;5;124m\"\u001b[39m\u001b[38;5;124mguide_json\u001b[39m\u001b[38;5;124m\"\u001b[39m: QueryDecomposition\u001b[38;5;241m.\u001b[39mmodel_json_schema()\n\u001b[1;32m     13\u001b[0m     },\n\u001b[1;32m     14\u001b[0m     \u001b[38;5;66;03m# extra_body={\"guide_json\": QueryDecomposition.model_json_schema()}\u001b[39;00m\n\u001b[1;32m     15\u001b[0m )\n\u001b[1;32m     16\u001b[0m \u001b[38;5;66;03m# print(\"Chat response:\", chat_response)\u001b[39;00m\n\u001b[1;32m     17\u001b[0m \u001b[38;5;28mprint\u001b[39m(chat_response\u001b[38;5;241m.\u001b[39mchoices[\u001b[38;5;241m0\u001b[39m]\u001b[38;5;241m.\u001b[39mmessage\u001b[38;5;241m.\u001b[39mcontent)\n",
      "\u001b[0;31mNameError\u001b[0m: name 'client' is not defined"
     ]
    }
   ],
   "source": [
    "\n",
    "chat_response = client.chat.completions.create(\n",
    "    model=\"Qwen2.5-7B-Instruct\",\n",
    "    messages=[\n",
    "        {\"role\": \"system\", \"content\": system_prompt},\n",
    "        {\"role\": \"user\", \"content\": \"功率最大的发电机和耗电量最大的设备，谁买的比较早\"},\n",
    "    ],\n",
    "    temperature=0.001,\n",
    "    # top_p=0.8,\n",
    "    max_tokens=1024,\n",
    "    extra_body={\n",
    "        \"repetition_penalty\": 1.05,\n",
    "        \"guide_json\": QueryDecomposition.model_json_schema()\n",
    "    },\n",
    "    # extra_body={\"guide_json\": QueryDecomposition.model_json_schema()}\n",
    ")\n",
    "# print(\"Chat response:\", chat_response)\n",
    "print(chat_response.choices[0].message.content)\n",
    "\n"
   ]
  },
  {
   "cell_type": "code",
   "execution_count": 29,
   "id": "a847c7d0-1b68-4a4c-b5e7-78b64f71e07c",
   "metadata": {},
   "outputs": [
    {
     "name": "stdout",
     "output_type": "stream",
     "text": [
      "ChatCompletion(id='chatcmpl-a904f7fa63b841469c3e4f88627b8114', choices=[Choice(finish_reason='stop', index=0, logprobs=None, message=ChatCompletionMessage(content='<thought>\\n为了回答这个问题，我们需要先确定功率最大的发电机是哪一年制造的，然后确定耗电量最大的设备是哪一年制造的，最后比较这两个日期来得出哪个设备购买得更早。\\n</thought>\\n子问题列表：\\n<subquery>\\n{\\n    \"subquery\": \"查询功率最大的发电机是哪一年制造的\",\\n    \"answer\": \"response_1\",\\n    \"next_action\": \"continue\"\\n}\\n{\\n    \"subquery\": \"查询耗电量最大的设备是哪一年制造的\",\\n    \"answer\": \"response_2\",\\n    \"next_action\": \"continue\"\\n}\\n{\\n    \"subquery\": \"<response_1>和<response_2>哪个日期更早\",\\n    \"answer\": \"response_3\",\\n    \"next_action\": \"final_answer\"\\n}\\n</subquery>', refusal=None, role='assistant', audio=None, function_call=None, tool_calls=[]), stop_reason=None)], created=1735370109, model='Qwen2.5-7B-Instruct', object='chat.completion', service_tier=None, system_fingerprint=None, usage=CompletionUsage(completion_tokens=172, prompt_tokens=353, total_tokens=525, completion_tokens_details=None, prompt_tokens_details=None), prompt_logprobs=None)\n"
     ]
    }
   ],
   "source": [
    "print(chat_response)"
   ]
  },
  {
   "cell_type": "code",
   "execution_count": 36,
   "id": "e2e41411-18de-4144-9b40-0058c8f156c0",
   "metadata": {},
   "outputs": [
    {
     "name": "stderr",
     "output_type": "stream",
     "text": [
      "<>:2: SyntaxWarning: invalid escape sequence '\\<'\n",
      "<>:2: SyntaxWarning: invalid escape sequence '\\<'\n",
      "/tmp/ipykernel_5039/4289170415.py:2: SyntaxWarning: invalid escape sequence '\\<'\n",
      "  pattern = \"\\<subquery\\>(.*?)\\</subquery\\>\"\n"
     ]
    }
   ],
   "source": [
    "import re\n",
    "pattern = \"<subquery>(.*?)</subquery>\"\n",
    "\n",
    "# 提取所有匹配内容\n",
    "matches = re.findall(pattern, chat_response.choices[0].message.content)\n",
    "\n",
    "for match in matches:\n",
    "    print(match)\n"
   ]
  },
  {
   "cell_type": "code",
   "execution_count": 37,
   "id": "624c8d74-e6fb-4399-afbd-afa624888b0a",
   "metadata": {},
   "outputs": [
    {
     "name": "stdout",
     "output_type": "stream",
     "text": [
      "<class 'str'> <thought>\n",
      "为了回答这个问题，我们需要先确定功率最大的发电机是哪一年制造的，然后确定耗电量最大的设备是哪一年制造的，最后比较这两个日期来得出哪个设备购买得更早。\n",
      "</thought>\n",
      "子问题列表：\n",
      "<subquery>\n",
      "{\n",
      "    \"subquery\": \"查询功率最大的发电机是哪一年制造的\",\n",
      "    \"answer\": \"response_1\",\n",
      "    \"next_action\": \"continue\"\n",
      "}\n",
      "{\n",
      "    \"subquery\": \"查询耗电量最大的设备是哪一年制造的\",\n",
      "    \"answer\": \"response_2\",\n",
      "    \"next_action\": \"continue\"\n",
      "}\n",
      "{\n",
      "    \"subquery\": \"<response_1>和<response_2>哪个日期更早\",\n",
      "    \"answer\": \"response_3\",\n",
      "    \"next_action\": \"final_answer\"\n",
      "}\n",
      "</subquery>\n",
      "None\n"
     ]
    }
   ],
   "source": [
    "text = chat_response.choices[0].message.content\n",
    "print(type(text), text)\n",
    "print(re.match(pattern, text))"
   ]
  },
  {
   "cell_type": "code",
   "execution_count": null,
   "id": "2210b043-749e-448d-b2d7-a57f65ccdd5c",
   "metadata": {},
   "outputs": [],
   "source": []
  }
 ],
 "metadata": {
  "kernelspec": {
   "display_name": "torch",
   "language": "python",
   "name": "torch"
  },
  "language_info": {
   "codemirror_mode": {
    "name": "ipython",
    "version": 3
   },
   "file_extension": ".py",
   "mimetype": "text/x-python",
   "name": "python",
   "nbconvert_exporter": "python",
   "pygments_lexer": "ipython3",
   "version": "3.12.8"
  }
 },
 "nbformat": 4,
 "nbformat_minor": 5
}
